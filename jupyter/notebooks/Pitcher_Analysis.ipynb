{
 "cells": [
  {
   "cell_type": "markdown",
   "id": "15370a3b-af01-4987-9bb0-3669d8dacbe1",
   "metadata": {},
   "source": [
    "# This is a sample Jupyter Notebook to demo the connection of this to the overall environment of this baseball analysis system built through docker compose"
   ]
  },
  {
   "cell_type": "code",
   "execution_count": 5,
   "id": "468ea984-5590-4a31-90ae-dccad74c22ef",
   "metadata": {},
   "outputs": [],
   "source": [
    "import pandas as pd\n",
    "import psycopg2\n",
    "import seaborn as sns\n",
    "import matplotlib.pyplot as plt"
   ]
  },
  {
   "cell_type": "code",
   "execution_count": 3,
   "id": "0538d1b7-c47c-4e9c-9aee-65c48c6c4e98",
   "metadata": {},
   "outputs": [],
   "source": [
    "def test_postgres_connection():\n",
    "    try:\n",
    "        # Define connection parameters\n",
    "        conn = psycopg2.connect(\n",
    "            dbname=\"MLB_DATA\",\n",
    "            user=\"user\",\n",
    "            password=\"password\",\n",
    "            host=\"postgres\",\n",
    "            port=\"5432\"\n",
    "        )\n",
    "        \n",
    "        # Create a cursor and test the connection\n",
    "        cur = conn.cursor()\n",
    "        cur.execute(\"SELECT 1;\")\n",
    "        cur.fetchone()\n",
    "        \n",
    "        print(\"Connected to PostgreSQL successfully.\")\n",
    "        return 'success'  # Return the connection object if successful\n",
    "\n",
    "    except psycopg2.Error as e:\n",
    "        print(\"Error connecting to PostgreSQL:\", e)\n",
    "        raise  # raise error for error"
   ]
  },
  {
   "cell_type": "markdown",
   "id": "ded9bd31-df7a-4f94-9199-63a4c05d7eb9",
   "metadata": {},
   "source": [
    "### I will test a Connection to The Database First"
   ]
  },
  {
   "cell_type": "code",
   "execution_count": 4,
   "id": "97a9d7f7-9afb-479b-9f13-b6dc40013621",
   "metadata": {},
   "outputs": [
    {
     "name": "stdout",
     "output_type": "stream",
     "text": [
      "Connected to PostgreSQL successfully.\n"
     ]
    },
    {
     "data": {
      "text/plain": [
       "'success'"
      ]
     },
     "execution_count": 4,
     "metadata": {},
     "output_type": "execute_result"
    }
   ],
   "source": [
    "test_postgres_connection()"
   ]
  },
  {
   "cell_type": "code",
   "execution_count": 10,
   "id": "f63daf94-a465-4cba-b767-6f4f3e077e97",
   "metadata": {},
   "outputs": [],
   "source": [
    "# Function to get Pitcher Info\n",
    "def get_all_pitches_info(pitcher_id: int):\n",
    "    try:\n",
    "        # Define connection parameters\n",
    "        conn = psycopg2.connect(\n",
    "            dbname=\"MLB_DATA\",\n",
    "            user=\"user\",\n",
    "            password=\"password\",\n",
    "            host=\"postgres\",\n",
    "            port=\"5432\"\n",
    "        )\n",
    "        cur = conn.cursor()\n",
    "\n",
    "        df = pd.read_sql(f\"SELECT * FROM PITCH_INFO_FACT WHERE PITCHER_ID = {pitcher_id};\", conn )\n",
    "\n",
    "        return df \n",
    "\n",
    "    except psycopg2.Error as e:\n",
    "        print(\"Error connecting to PostgreSQL:\", e)\n",
    "        raise  # raise error for error"
   ]
  },
  {
   "cell_type": "code",
   "execution_count": 11,
   "id": "09e919a6-55ad-413e-91ce-7e27ba2ffb1f",
   "metadata": {},
   "outputs": [
    {
     "name": "stderr",
     "output_type": "stream",
     "text": [
      "/tmp/ipykernel_21/3498102289.py:14: UserWarning: pandas only supports SQLAlchemy connectable (engine/connection) or database string URI or sqlite3 DBAPI2 connection. Other DBAPI2 objects are not tested. Please consider using SQLAlchemy.\n",
      "  df = pd.read_sql(f\"SELECT * FROM PITCH_INFO_FACT WHERE PITCHER_ID = {pitcher_id};\", conn )\n"
     ]
    },
    {
     "name": "stdout",
     "output_type": "stream",
     "text": [
      "                    pitch_id  pitcher_id  batter_id             hit_id  \\\n",
      "0   744961543135543807111Top      543135     543807  74496154380711Top   \n",
      "1   744961543135666182241Top      543135     666182               None   \n",
      "2   744961543135666182231Top      543135     666182               None   \n",
      "3   744961543135666182221Top      543135     666182               None   \n",
      "4   744961543135666182211Top      543135     666182               None   \n",
      "5   744961543135665489311Top      543135     665489  74496166548931Top   \n",
      "6   744961543135687462451Top      543135     687462  74496168746241Top   \n",
      "7   744961543135687462441Top      543135     687462               None   \n",
      "8   744961543135687462431Top      543135     687462               None   \n",
      "9   744961543135687462421Top      543135     687462               None   \n",
      "10  744961543135687462411Top      543135     687462               None   \n",
      "11  744961543135672386511Top      543135     672386  74496167238651Top   \n",
      "12  744961543135676391631Top      543135     676391  74496167639161Top   \n",
      "13  744961543135676391621Top      543135     676391               None   \n",
      "14  744961543135676391611Top      543135     676391               None   \n",
      "\n",
      "    game_id                   play_id count  bases bases_after  rs_on_play  \\\n",
      "0    744961  744961543135543807111Top   0-0  0-0-0       1-0-0           0   \n",
      "1    744961  744961543135666182241Top   1-2  1-0-0       1-0-0           0   \n",
      "2    744961                      None   1-1  1-0-0       1-0-0           0   \n",
      "3    744961                      None   1-0  1-0-0       1-0-0           0   \n",
      "4    744961                      None   0-0  1-0-0       1-0-0           0   \n",
      "5    744961  744961543135665489311Top   0-0  1-0-0       1-1-0           0   \n",
      "6    744961  744961543135687462451Top   2-2  1-1-0       1-1-0           0   \n",
      "7    744961                      None   1-2  1-1-0       1-1-0           0   \n",
      "8    744961                      None   1-1  1-1-0       1-1-0           0   \n",
      "9    744961                      None   0-1  1-1-0       1-1-0           0   \n",
      "10   744961                      None   0-0  1-1-0       1-1-0           0   \n",
      "11   744961  744961543135672386511Top   0-0  1-1-0       0-1-1           1   \n",
      "12   744961  744961543135676391631Top   0-2  0-1-1       0-1-1           1   \n",
      "13   744961                      None   0-1  0-1-1       0-1-1           0   \n",
      "14   744961                      None   0-0  0-1-1       1-0-1           0   \n",
      "\n",
      "    ... release_pos_y       pitch_name  effective_speed  spin_axis  \\\n",
      "0   ...         53.94  4-Seam Fastball             95.9      232.0   \n",
      "1   ...         53.94           Slider             85.1      112.0   \n",
      "2   ...         53.95     Split-Finger             87.5      235.0   \n",
      "3   ...         53.75     Split-Finger             87.0      234.0   \n",
      "4   ...         53.99  4-Seam Fastball             95.2      231.0   \n",
      "5   ...         53.90  4-Seam Fastball             95.7      231.0   \n",
      "6   ...         53.90     Split-Finger             88.3      243.0   \n",
      "7   ...         54.01  4-Seam Fastball             94.7      229.0   \n",
      "8   ...         54.18           Cutter             91.1      200.0   \n",
      "9   ...         54.17  4-Seam Fastball             94.5      228.0   \n",
      "10  ...         54.06     Split-Finger             88.5      246.0   \n",
      "11  ...         53.84     Split-Finger             89.2      239.0   \n",
      "12  ...         54.05     Split-Finger             88.5      236.0   \n",
      "13  ...         54.02  4-Seam Fastball             96.5      236.0   \n",
      "14  ...         53.97        Curveball             77.4       45.0   \n",
      "\n",
      "    pitch_number_ab  pitcher_team hitter_team  hitter_stand  pitcher_throw  \\\n",
      "0                 1           TEX         TOR             R              R   \n",
      "1                 4           TEX         TOR             R              R   \n",
      "2                 3           TEX         TOR             R              R   \n",
      "3                 2           TEX         TOR             R              R   \n",
      "4                 1           TEX         TOR             R              R   \n",
      "5                 1           TEX         TOR             R              R   \n",
      "6                 5           TEX         TOR             L              R   \n",
      "7                 4           TEX         TOR             L              R   \n",
      "8                 3           TEX         TOR             L              R   \n",
      "9                 2           TEX         TOR             L              R   \n",
      "10                1           TEX         TOR             L              R   \n",
      "11                1           TEX         TOR             R              R   \n",
      "12                3           TEX         TOR             R              R   \n",
      "13                2           TEX         TOR             R              R   \n",
      "14                1           TEX         TOR             R              R   \n",
      "\n",
      "            date_time_created  \n",
      "0  2025-04-01 21:03:49.205509  \n",
      "1  2025-04-01 21:03:49.205509  \n",
      "2  2025-04-01 21:03:49.205509  \n",
      "3  2025-04-01 21:03:49.205509  \n",
      "4  2025-04-01 21:03:49.205509  \n",
      "5  2025-04-01 21:03:49.205509  \n",
      "6  2025-04-01 21:03:49.205509  \n",
      "7  2025-04-01 21:03:49.205509  \n",
      "8  2025-04-01 21:03:49.205509  \n",
      "9  2025-04-01 21:03:49.205509  \n",
      "10 2025-04-01 21:03:49.205509  \n",
      "11 2025-04-01 21:03:49.205509  \n",
      "12 2025-04-01 21:03:49.205509  \n",
      "13 2025-04-01 21:03:49.205509  \n",
      "14 2025-04-01 21:03:49.205509  \n",
      "\n",
      "[15 rows x 41 columns]\n",
      "<class 'pandas.core.frame.DataFrame'>\n",
      "RangeIndex: 16796 entries, 0 to 16795\n",
      "Data columns (total 41 columns):\n",
      " #   Column                Non-Null Count  Dtype         \n",
      "---  ------                --------------  -----         \n",
      " 0   pitch_id              16796 non-null  object        \n",
      " 1   pitcher_id            16796 non-null  int64         \n",
      " 2   batter_id             16796 non-null  int64         \n",
      " 3   hit_id                3041 non-null   object        \n",
      " 4   game_id               16796 non-null  int64         \n",
      " 5   play_id               4352 non-null   object        \n",
      " 6   count                 16796 non-null  object        \n",
      " 7   bases                 16796 non-null  object        \n",
      " 8   bases_after           16789 non-null  object        \n",
      " 9   rs_on_play            16796 non-null  int64         \n",
      " 10  pitch_type            16781 non-null  object        \n",
      " 11  description           16796 non-null  object        \n",
      " 12  release_speed         16786 non-null  float64       \n",
      " 13  release_pos_x         16786 non-null  float64       \n",
      " 14  release_pos_z         16786 non-null  float64       \n",
      " 15  zone                  16786 non-null  float64       \n",
      " 16  type                  16796 non-null  object        \n",
      " 17  pfx_x                 16786 non-null  float64       \n",
      " 18  pfx_z                 16786 non-null  float64       \n",
      " 19  plate_x               16786 non-null  float64       \n",
      " 20  plate_z               16786 non-null  float64       \n",
      " 21  velocity_pitch_fps_x  16786 non-null  float64       \n",
      " 22  velocity_pitch_fps_y  16786 non-null  float64       \n",
      " 23  velocity_pitch_fps_z  16786 non-null  float64       \n",
      " 24  accel_pitch_fps_x     16786 non-null  float64       \n",
      " 25  accel_pitch_fps_y     16786 non-null  float64       \n",
      " 26  accel_pitch_fps_z     16786 non-null  float64       \n",
      " 27  top_of_zone           16786 non-null  float64       \n",
      " 28  bottom_of_zone        16786 non-null  float64       \n",
      " 29  release_spin_rate     16509 non-null  float64       \n",
      " 30  release_extension     16778 non-null  float64       \n",
      " 31  release_pos_y         16786 non-null  float64       \n",
      " 32  pitch_name            16781 non-null  object        \n",
      " 33  effective_speed       16775 non-null  float64       \n",
      " 34  spin_axis             16757 non-null  float64       \n",
      " 35  pitch_number_ab       16796 non-null  int64         \n",
      " 36  pitcher_team          16796 non-null  object        \n",
      " 37  hitter_team           16796 non-null  object        \n",
      " 38  hitter_stand          16796 non-null  object        \n",
      " 39  pitcher_throw         16796 non-null  object        \n",
      " 40  date_time_created     16796 non-null  datetime64[ns]\n",
      "dtypes: datetime64[ns](1), float64(21), int64(5), object(14)\n",
      "memory usage: 5.3+ MB\n",
      "None\n"
     ]
    }
   ],
   "source": [
    "nathan_eovaldi_pitches = get_all_pitches_info(543135)\n",
    "\n",
    "print(nathan_eovaldi_pitches.head(15))\n",
    "print(nathan_eovaldi_pitches.info())\n",
    "\n",
    "nathan_eovaldi_pitches['pitch_name'].unique()"
   ]
  },
  {
   "cell_type": "code",
   "execution_count": 18,
   "id": "ff77a4dd-2fdf-4f65-8606-4935aa827572",
   "metadata": {},
   "outputs": [
    {
     "name": "stdout",
     "output_type": "stream",
     "text": [
      "Number of null values in pitch_name: 15\n",
      "Number of null values in pitch_name: 0\n",
      "['4-Seam Fastball' 'Slider' 'Split-Finger' 'Cutter' 'Curveball' 'Sinker'\n",
      " 'Pitch Out' 'Intentional Ball' 'Changeup']\n",
      "pitch_name\n",
      "4-Seam Fastball     6717\n",
      "Split-Finger        3344\n",
      "Cutter              2886\n",
      "Curveball           2278\n",
      "Slider              1458\n",
      "Changeup              72\n",
      "Sinker                18\n",
      "Intentional Ball       5\n",
      "Pitch Out              3\n",
      "Name: count, dtype: int64\n"
     ]
    },
    {
     "name": "stderr",
     "output_type": "stream",
     "text": [
      "/tmp/ipykernel_21/766336103.py:21: FutureWarning: \n",
      "\n",
      "Passing `palette` without assigning `hue` is deprecated and will be removed in v0.14.0. Assign the `x` variable to `hue` and set `legend=False` for the same effect.\n",
      "\n",
      "  sns.barplot(data=pitch_counts, x='Pitch Type', y='Count', palette='viridis')\n"
     ]
    },
    {
     "data": {
      "image/png": "[encoded data removed]",
      "text/plain": [
       "<Figure size 1000x600 with 1 Axes>"
      ]
     },
     "metadata": {},
     "output_type": "display_data"
    }
   ],
   "source": [
    "null_count = nathan_eovaldi_pitches['pitch_name'].isnull().sum()\n",
    "print(f'Number of null values in pitch_name: {null_count}')\n",
    "\n",
    "\n",
    "nathan_eovaldi_pitches = nathan_eovaldi_pitches.dropna(subset=['pitch_name'])\n",
    "\n",
    "null_count = nathan_eovaldi_pitches['pitch_name'].isnull().sum()\n",
    "print(f'Number of null values in pitch_name: {null_count}')\n",
    "\n",
    "\n",
    "print(nathan_eovaldi_pitches['pitch_name'].unique())\n",
    "pitch_numbers = nathan_eovaldi_pitches['pitch_name'].value_counts()\n",
    "print(pitch_numbers)\n",
    "\n",
    "# Convert Series to DataFrame\n",
    "pitch_counts = pitch_numbers.reset_index()\n",
    "pitch_counts.columns = ['Pitch Type', 'Count']  # Rename columns for clarity\n",
    "\n",
    "# Create the bar plot\n",
    "plt.figure(figsize=(10, 6))\n",
    "sns.barplot(data=pitch_counts, x='Pitch Type', y='Count', palette='viridis')\n",
    "plt.title('Pitch Counts for Nathan Eovaldi')\n",
    "plt.xlabel('Pitch Type')\n",
    "plt.ylabel('Count')\n",
    "plt.xticks(rotation=45)\n",
    "plt.tight_layout()\n",
    "plt.show()"
   ]
  }
 ],
 "metadata": {
  "kernelspec": {
   "display_name": "Python 3 (ipykernel)",
   "language": "python",
   "name": "python3"
  },
  "language_info": {
   "codemirror_mode": {
    "name": "ipython",
    "version": 3
   },
   "file_extension": ".py",
   "mimetype": "text/x-python",
   "name": "python",
   "nbconvert_exporter": "python",
   "pygments_lexer": "ipython3",
   "version": "3.11.11"
  }
 },
 "nbformat": 4,
 "nbformat_minor": 5
}
